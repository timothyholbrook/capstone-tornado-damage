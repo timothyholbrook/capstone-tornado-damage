{
 "cells": [
  {
   "cell_type": "code",
   "execution_count": 1,
   "id": "40789faa-f7ce-42d1-9d7e-99f7dacfa3a0",
   "metadata": {},
   "outputs": [],
   "source": [
    "import pandas as pd"
   ]
  },
  {
   "cell_type": "code",
   "execution_count": 2,
   "id": "901cee32-7b46-41ec-a699-5a5da8f18e5e",
   "metadata": {},
   "outputs": [],
   "source": [
    "# Load cleaned data file\n",
    "df = pd.read_csv('combined_file.csv')"
   ]
  }
 ],
 "metadata": {
  "kernelspec": {
   "display_name": "Python 3 (ipykernel)",
   "language": "python",
   "name": "python3"
  },
  "language_info": {
   "codemirror_mode": {
    "name": "ipython",
    "version": 3
   },
   "file_extension": ".py",
   "mimetype": "text/x-python",
   "name": "python",
   "nbconvert_exporter": "python",
   "pygments_lexer": "ipython3",
   "version": "3.11.7"
  }
 },
 "nbformat": 4,
 "nbformat_minor": 5
}
