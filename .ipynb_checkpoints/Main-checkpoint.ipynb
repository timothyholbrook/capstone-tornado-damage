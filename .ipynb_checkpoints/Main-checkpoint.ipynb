{
 "cells": [
  {
   "cell_type": "code",
   "execution_count": 1,
   "id": "40789faa-f7ce-42d1-9d7e-99f7dacfa3a0",
   "metadata": {},
   "outputs": [],
   "source": [
    "import pandas as pd\n",
    "from IPython.display import Markdown\n",
    "from IPython.display import Image\n",
    "import numpy as np"
   ]
  },
  {
   "cell_type": "code",
   "execution_count": 2,
   "id": "901cee32-7b46-41ec-a699-5a5da8f18e5e",
   "metadata": {},
   "outputs": [],
   "source": [
    "# Load cleaned data file\n",
    "df = pd.read_csv('combined_file.csv')"
   ]
  },
  {
   "cell_type": "code",
   "execution_count": 3,
   "id": "a21e102f-13eb-474c-b7e1-f3cf0009fb57",
   "metadata": {},
   "outputs": [
    {
     "name": "stdout",
     "output_type": "stream",
     "text": [
      "Tornado Damages and Fatalities in The United States Since 1950\n"
     ]
    },
    {
     "data": {
      "text/html": [
       "<img src=\"images/west_lib_1.jpg\" width=\"400\" height=\"100\"/>"
      ],
      "text/plain": [
       "<IPython.core.display.Image object>"
      ]
     },
     "execution_count": 3,
     "metadata": {},
     "output_type": "execute_result"
    }
   ],
   "source": [
    "#Load Image\n",
    "print(\"Tornado Damages and Fatalities in The United States Since 1950\")\n",
    "Image(url=\"images/west_lib_1.jpg\", width=400, height=100)  "
   ]
  },
  {
   "cell_type": "code",
   "execution_count": null,
   "id": "c1bd5968-a7b2-40aa-8540-dc614363e2b9",
   "metadata": {},
   "outputs": [
    {
     "data": {
      "text/markdown": [
       "**Crop and Property Damage**"
      ],
      "text/plain": [
       "<IPython.core.display.Markdown object>"
      ]
     },
     "metadata": {},
     "output_type": "display_data"
    },
    {
     "name": "stdout",
     "output_type": "stream",
     "text": [
      "In this section of the project, you can view crop and property damage along with the number of tornadoes for each year.\n"
     ]
    }
   ],
   "source": [
    "#Load the combined_file.csv into a DataFrame\n",
    "combined_file = pd.read_csv('combined_file.csv')\n",
    "\n",
    "#Remove the $ from Crop Damage and Property Damage columns\n",
    "combined_file['Crop Damage'] = combined_file['Crop Damage'].str.replace('$', '')\n",
    "combined_file['Property Damage'] = combined_file['Property Damage'].str.replace('$', '')\n",
    "\n",
    "#Retrive data for specific column and year\n",
    "def get_data_for_year_and_column(year, column):\n",
    "    # Filter the DataFrame for the specified year\n",
    "    data_for_year = combined_file[combined_file['Year'] == year]\n",
    "    \n",
    "    #Check if data exists for the year\n",
    "    if not data_for_year.empty:\n",
    "        # Retrieve data for the column\n",
    "        data = data_for_year.iloc[0][column]\n",
    "        \n",
    "        #Check if the column is Crop Damage or Property Damage\n",
    "        if column == 'Crop Damage' or column == 'Property Damage':\n",
    "            # Convert data to numeric\n",
    "            data = pd.to_numeric(data, errors='coerce')\n",
    "            \n",
    "            #Format data to display in $ format\n",
    "            data = \"${:,.0f}\".format(data)\n",
    "        \n",
    "        return data\n",
    "    else:\n",
    "        return 'No data recorded for that year'\n",
    "\n",
    "#Intro to Crops and Property Damage\n",
    "bold_text = \"**Crop and Property Damage**\"\n",
    "additional_text = \"In this section of the project, you can view crop and property damage along with the number of tornadoes for each year.\"\n",
    "display(Markdown(bold_text))\n",
    "print(additional_text)\n",
    "\n",
    "#Ask the user for input\n",
    "year_input = input(\"Enter the year to get the data for that year(1950-2023): \")\n",
    "column_input = input(\"Enter the column name to look up (Options: Crop Damage, Property Damage, # of Tornadoes): \")\n",
    "\n",
    "#Convert the input year to integer\n",
    "year_input = int(year_input)\n",
    "\n",
    "#Retrieve data for the specified year and column\n",
    "data_for_year_and_column = get_data_for_year_and_column(year_input, column_input)\n",
    "\n",
    "#Print the result\n",
    "print(f\"{column_input} in {year_input}: {data_for_year_and_column}\")"
   ]
  },
  {
   "cell_type": "code",
   "execution_count": null,
   "id": "af961134-64ff-4303-a589-6d5d18b67ed8",
   "metadata": {},
   "outputs": [],
   "source": [
    "#Load the combined_file.csv into a DataFrame\n",
    "combined_file = pd.read_csv('combined_file.csv')\n",
    "\n",
    "#Intro to Injuries\n",
    "bold_text = \"**Injuries**\"\n",
    "additional_text = \"In this section, you can explore the annual injuries resulting from tornadoes.\"\n",
    "display(Markdown(bold_text))\n",
    "print(additional_text)\n",
    "\n",
    "#Ask the user for input\n",
    "year_input = input(\"Enter the year to get the number of injuries for that year: \")\n",
    "\n",
    "#Convert the input year to integer\n",
    "year_input = int(year_input)\n",
    "\n",
    "#Filter the DataFrame for the specified year\n",
    "data_for_year = combined_file[combined_file['Year'] == year_input]\n",
    "\n",
    "#Check if data exists for the specified year\n",
    "if not data_for_year.empty:\n",
    "    # Retrieve the number of injuries for the specified year\n",
    "    num_injuries = data_for_year.iloc[0]['Injuries']\n",
    "    print(f\"The number of injuries in {year_input} was: {num_injuries}\")\n",
    "else:\n",
    "    print(\"No data found for the specified year.\")"
   ]
  },
  {
   "cell_type": "code",
   "execution_count": null,
   "id": "0d20865c-0ce7-4102-8f57-1fa66008f0b2",
   "metadata": {},
   "outputs": [],
   "source": [
    "#Load the datasets\n",
    "modified_date = pd.read_csv('modified_date.csv')\n",
    "combined_file = pd.read_csv('combined_file.csv')\n",
    "\n",
    "#Merge the datasets based on column\n",
    "merged_df = pd.merge(modified_date, combined_file, on='Year', how='inner')\n",
    "\n",
    "#Calculate the average fatalities per year by summing the fatalities from both DataFrames and dividing by 2\n",
    "merged_df['Average_Fatalities'] = (merged_df['Fatalities_x'] + merged_df['Fatalities_y']) / 2\n",
    "\n",
    "#Round the Average_Fatalities column and store it in a new column named 'Fatalities'\n",
    "merged_df['Fatalities'] = merged_df['Average_Fatalities'].round().astype(int)\n",
    "\n",
    "#Create a new DataFrame with only the Year and Fatalities columns\n",
    "new_df = merged_df[['Year', 'Fatalities']]\n",
    "\n",
    "#Save the new DataFrame to a CSV file\n",
    "new_df.to_csv('combined_average_fatalities.csv', index=False)\n",
    "\n",
    "#Intro to Fatalities\n",
    "bold_text = \"**Fatalities**\"\n",
    "additional_text = \"In this section, you can explore the annual fatalities resulting from tornadoes. I have merged 2 CSV files for a more accurate number.\"\n",
    "display(Markdown(bold_text))\n",
    "print(additional_text)\n",
    "\n",
    "while True:\n",
    "    #Prompt the user for a year\n",
    "    input_year = input(\"Enter a year to get the average number of fatalities between the two files(1950-2023) (type 'exit' to quit): \")\n",
    "    \n",
    "    #Check if the user wants to exit\n",
    "    if input_year.lower() == 'exit':\n",
    "        print(\"Exiting the program...\")\n",
    "        break\n",
    "    \n",
    "    #Convert to int\n",
    "    input_year = int(input_year)\n",
    "    \n",
    "    #Filter the merged DataFrame for the specified year\n",
    "    yearly_data = merged_df[merged_df['Year'] == input_year]\n",
    "\n",
    "    #Get the average number of fatalities for the specified year\n",
    "    if len(yearly_data) > 0:\n",
    "        average_fatalities_for_input_year = yearly_data['Fatalities'].iloc[0]\n",
    "        print(f\"Average number of fatalities for {input_year} between the two files: {average_fatalities_for_input_year}\")\n",
    "    else:\n",
    "        print(f\"No data available for the year {input_year} between the two files\")"
   ]
  }
 ],
 "metadata": {
  "kernelspec": {
   "display_name": "Python 3 (ipykernel)",
   "language": "python",
   "name": "python3"
  },
  "language_info": {
   "codemirror_mode": {
    "name": "ipython",
    "version": 3
   },
   "file_extension": ".py",
   "mimetype": "text/x-python",
   "name": "python",
   "nbconvert_exporter": "python",
   "pygments_lexer": "ipython3",
   "version": "3.11.7"
  }
 },
 "nbformat": 4,
 "nbformat_minor": 5
}
