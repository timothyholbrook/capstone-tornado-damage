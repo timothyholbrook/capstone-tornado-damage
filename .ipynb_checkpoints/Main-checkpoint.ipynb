{
 "cells": [
  {
   "cell_type": "code",
   "execution_count": 1,
   "id": "40789faa-f7ce-42d1-9d7e-99f7dacfa3a0",
   "metadata": {},
   "outputs": [],
   "source": [
    "import pandas as pd\n",
    "from IPython.display import Image"
   ]
  },
  {
   "cell_type": "code",
   "execution_count": 2,
   "id": "901cee32-7b46-41ec-a699-5a5da8f18e5e",
   "metadata": {},
   "outputs": [],
   "source": [
    "# Load cleaned data file\n",
    "df = pd.read_csv('combined_file.csv')"
   ]
  },
  {
   "cell_type": "code",
   "execution_count": 3,
   "id": "a21e102f-13eb-474c-b7e1-f3cf0009fb57",
   "metadata": {},
   "outputs": [
    {
     "name": "stdout",
     "output_type": "stream",
     "text": [
      "Tornado Damages and Fatalities since 1950 in The United States\n"
     ]
    },
    {
     "data": {
      "text/html": [
       "<img src=\"images/west_lib_1.jpg\" width=\"400\" height=\"100\"/>"
      ],
      "text/plain": [
       "<IPython.core.display.Image object>"
      ]
     },
     "execution_count": 3,
     "metadata": {},
     "output_type": "execute_result"
    }
   ],
   "source": [
    "#Load Image\n",
    "print(\"Tornado Damages and Fatalities in The United States Since 1950\")\n",
    "Image(url=\"images/west_lib_1.jpg\", width=400, height=100)  "
   ]
  },
  {
   "cell_type": "code",
   "execution_count": null,
   "id": "f6bf70ac-7659-4243-87d4-fe14097f3a84",
   "metadata": {},
   "outputs": [],
   "source": []
  }
 ],
 "metadata": {
  "kernelspec": {
   "display_name": "Python 3 (ipykernel)",
   "language": "python",
   "name": "python3"
  },
  "language_info": {
   "codemirror_mode": {
    "name": "ipython",
    "version": 3
   },
   "file_extension": ".py",
   "mimetype": "text/x-python",
   "name": "python",
   "nbconvert_exporter": "python",
   "pygments_lexer": "ipython3",
   "version": "3.11.7"
  }
 },
 "nbformat": 4,
 "nbformat_minor": 5
}
