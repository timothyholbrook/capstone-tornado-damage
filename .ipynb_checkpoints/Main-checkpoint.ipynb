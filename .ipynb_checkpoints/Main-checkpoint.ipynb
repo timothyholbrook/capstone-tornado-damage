{
 "cells": [
  {
   "cell_type": "code",
   "execution_count": null,
   "id": "40789faa-f7ce-42d1-9d7e-99f7dacfa3a0",
   "metadata": {},
   "outputs": [],
   "source": [
    "import pandas as pd\n",
    "from IPython.display import Markdown\n",
    "from IPython.display import Image\n",
    "import numpy as np"
   ]
  },
  {
   "cell_type": "markdown",
   "id": "dc5713c6-8f0f-4885-8df2-862f8955f3a9",
   "metadata": {},
   "source": [
    "# Load Data File"
   ]
  },
  {
   "cell_type": "code",
   "execution_count": null,
   "id": "901cee32-7b46-41ec-a699-5a5da8f18e5e",
   "metadata": {},
   "outputs": [],
   "source": [
    "#Load cleaned data file\n",
    "df = pd.read_csv('combined_file.csv')"
   ]
  },
  {
   "cell_type": "markdown",
   "id": "fc1a15fa-b558-4e93-90d4-7ecc23e26e9d",
   "metadata": {},
   "source": [
    "# Title Project and display opening image"
   ]
  },
  {
   "cell_type": "code",
   "execution_count": null,
   "id": "a21e102f-13eb-474c-b7e1-f3cf0009fb57",
   "metadata": {},
   "outputs": [],
   "source": [
    "#Define the text\n",
    "text = \"Tornado Damages and Fatalities in The United States Since 1950\"\n",
    "\n",
    "#Make the text bold \n",
    "bold_text = f\"**{text}**\"\n",
    "\n",
    "#Print the bold text\n",
    "display(Markdown(bold_text))\n",
    "\n",
    "#Display the image\n",
    "display(Image(url=\"images/west_lib_1.jpg\"))"
   ]
  },
  {
   "cell_type": "markdown",
   "id": "d1ba1ddb-1fa0-4c5c-8e10-c98b5968a09d",
   "metadata": {},
   "source": [
    "# Load Tableau Visualization Crop vs Property Damage"
   ]
  },
  {
   "cell_type": "code",
   "execution_count": null,
   "id": "57410ecd-d9a2-4aca-af1b-18d1a82fed94",
   "metadata": {},
   "outputs": [],
   "source": [
    "#load tableau vizz crop vs property damage\n",
    "Image(filename='images/cr_pr.jpg')"
   ]
  },
  {
   "cell_type": "markdown",
   "id": "89d9e9e6-f04a-42b1-962e-305ef500651c",
   "metadata": {},
   "source": [
    "# Introduction to Crop vs Property Damage"
   ]
  },
  {
   "cell_type": "code",
   "execution_count": null,
   "id": "c1bd5968-a7b2-40aa-8540-dc614363e2b9",
   "metadata": {},
   "outputs": [],
   "source": [
    "#Load the combined_file.csv into a DataFrame\n",
    "combined_file = pd.read_csv('combined_file.csv')\n",
    "\n",
    "#Remove the $ from Crop Damage and Property Damage columns\n",
    "combined_file['Crop Damage'] = combined_file['Crop Damage'].str.replace('$', '')\n",
    "combined_file['Property Damage'] = combined_file['Property Damage'].str.replace('$', '')\n",
    "\n",
    "#Retrive data for specific column and year\n",
    "def get_data_for_year_and_column(year, column):\n",
    "    # Filter the DataFrame for the specified year\n",
    "    data_for_year = combined_file[combined_file['Year'] == year]\n",
    "    \n",
    "    #Check if data exists for the year\n",
    "    if not data_for_year.empty:\n",
    "        # Retrieve data for the column\n",
    "        data = data_for_year.iloc[0][column]\n",
    "        \n",
    "        #Check if the column is Crop Damage or Property Damage\n",
    "        if column == 'Crop Damage' or column == 'Property Damage':\n",
    "            # Convert data to numeric\n",
    "            data = pd.to_numeric(data, errors='coerce')\n",
    "            \n",
    "            #Format data to display in $ format\n",
    "            data = \"${:,.0f}\".format(data)\n",
    "        \n",
    "        return data\n",
    "    else:\n",
    "        return 'No data recorded for that year'\n",
    "\n",
    "#Intro to Crops and Property Damage\n",
    "bold_text = \"**Crop and Property Damage**\"\n",
    "additional_text = \"In this section of the project, you can view crop and property damage along with the number of tornadoes for each year. Please note that crop damage was only tracked after 1993.\"\n",
    "display(Markdown(bold_text))\n",
    "print(additional_text)\n",
    "\n",
    "#Ask the user for input\n",
    "year_input = input(\"Enter the year to get the data for that year(1950-2023): \")\n",
    "column_input = input(\"Enter the column name to look up (Options: Crop Damage, Property Damage, # of Tornadoes): \")\n",
    "\n",
    "#Convert the input year to integer\n",
    "year_input = int(year_input)\n",
    "\n",
    "#Retrieve data for the specified year and column\n",
    "data_for_year_and_column = get_data_for_year_and_column(year_input, column_input)\n",
    "\n",
    "#Print the result\n",
    "print(f\"{column_input} in {year_input}: {data_for_year_and_column}\")"
   ]
  },
  {
   "cell_type": "markdown",
   "id": "3d0e0150-cfa6-46ac-b79f-26e286bb90e4",
   "metadata": {},
   "source": [
    "# Load Tableau visualization Injuries"
   ]
  },
  {
   "cell_type": "code",
   "execution_count": null,
   "id": "0c12ce47-563c-4a08-8f0a-8977e52440df",
   "metadata": {},
   "outputs": [],
   "source": [
    "#load tableau vizz Injuries\n",
    "Image(filename='images/tornado_injuries.png')"
   ]
  },
  {
   "cell_type": "markdown",
   "id": "22e930d2-8b27-4dfd-92c2-f6cfccad81f8",
   "metadata": {},
   "source": [
    "# Introduction to Injuries"
   ]
  },
  {
   "cell_type": "code",
   "execution_count": null,
   "id": "af961134-64ff-4303-a589-6d5d18b67ed8",
   "metadata": {},
   "outputs": [],
   "source": [
    "#Load the combined_file.csv into a DataFrame\n",
    "combined_file = pd.read_csv('combined_file.csv')\n",
    "\n",
    "#Intro to Injuries\n",
    "bold_text = \"**Injuries**\"\n",
    "additional_text = \"In this section, you can explore the annual injuries resulting from tornadoes.\"\n",
    "display(Markdown(bold_text))\n",
    "print(additional_text)\n",
    "\n",
    "#Ask the user for input\n",
    "year_input = input(\"Enter the year to get the number of injuries for that year: \")\n",
    "\n",
    "#Convert the input year to integer\n",
    "year_input = int(year_input)\n",
    "\n",
    "#Filter the DataFrame for the specified year\n",
    "data_for_year = combined_file[combined_file['Year'] == year_input]\n",
    "\n",
    "#Check if data exists for the specified year\n",
    "if not data_for_year.empty:\n",
    "    # Retrieve the number of injuries for the specified year\n",
    "    num_injuries = data_for_year.iloc[0]['Injuries']\n",
    "    print(f\"The number of injuries in {year_input} was: {num_injuries}\")\n",
    "else:\n",
    "    print(\"No data found for the specified year.\")"
   ]
  },
  {
   "cell_type": "markdown",
   "id": "c5c2cbe6-f111-4de2-8c35-1cd97ae4e2dd",
   "metadata": {},
   "source": [
    "# Load Tableau visualization Fatalities"
   ]
  },
  {
   "cell_type": "code",
   "execution_count": null,
   "id": "d5a22153-3157-4034-b18c-1456d97feb98",
   "metadata": {},
   "outputs": [],
   "source": [
    "#Load tableau vizz average fatalities\n",
    "Image(filename='images/avg_fat.png')"
   ]
  },
  {
   "cell_type": "markdown",
   "id": "a5b99615-ad43-47d3-8a46-0059aa77a2ef",
   "metadata": {},
   "source": [
    "# Merge two data sets"
   ]
  },
  {
   "cell_type": "code",
   "execution_count": null,
   "id": "0d20865c-0ce7-4102-8f57-1fa66008f0b2",
   "metadata": {},
   "outputs": [],
   "source": [
    "#Load the datasets\n",
    "modified_date = pd.read_csv('modified_date.csv')\n",
    "combined_file = pd.read_csv('combined_file.csv')\n",
    "\n",
    "bold_text = \"**Fatalities**\"\n",
    "additional_text = \"In this section, you can explore the annual Fatalities resulting from tornadoes.\"\n",
    "display(Markdown(bold_text))\n",
    "print(additional_text)\n",
    "\n",
    "#Merge the datasets column\n",
    "merged_df = pd.merge(modified_date, combined_file, on='Year', how='inner')\n",
    "\n",
    "#Calculate the average fatalities per year from both df and divide by 2\n",
    "merged_df['Average_Fatalities'] = (merged_df['Fatalities_x'] + merged_df['Fatalities_y']) / 2\n",
    "\n",
    "#Round the Average_Fatalities column and store it in a new column named 'Fatalities'\n",
    "merged_df['Fatalities'] = merged_df['Average_Fatalities'].round().astype(int)\n",
    "\n",
    "#Create a new df with only the Year and Fatalities columns\n",
    "new_df = merged_df[['Year', 'Fatalities']]\n",
    "\n",
    "#Save the new df to a CSV file\n",
    "new_df.to_csv('combined_average_fatalities.csv', index=False)\n",
    "\n",
    "#Ask the user for a year\n",
    "input_year = input(\"Enter a year to get the average number of fatalities between the two files(1950-2023): \")\n",
    "    \n",
    "#Convert to int\n",
    "input_year = int(input_year)\n",
    "    \n",
    "#Filter the merged df for the specified year\n",
    "yearly_data = merged_df[merged_df['Year'] == input_year]\n",
    "\n",
    "#Get the average number of fatalities for year\n",
    "if len(yearly_data) > 0:\n",
    "    average_fatalities_for_input_year = yearly_data['Fatalities'].iloc[0]\n",
    "    print(f\"Average number of fatalities for {input_year} between the two files: {average_fatalities_for_input_year}\")\n",
    "else:\n",
    "    print(f\"No data available for the year {input_year} between the two files\")"
   ]
  },
  {
   "cell_type": "markdown",
   "id": "fa8b7fe7-3db8-4407-93f1-07ee17070179",
   "metadata": {},
   "source": [
    "# Display average Property Damage"
   ]
  },
  {
   "cell_type": "code",
   "execution_count": null,
   "id": "39ecfee2-1fa7-4356-977b-50600db037ed",
   "metadata": {},
   "outputs": [],
   "source": [
    "#Split the concatenated values in the Property Damage column and convert them to num\n",
    "df['Property Damage'] = df['Property Damage'].apply(lambda x: sum(float(i) for i in x.split('$') if i.strip()))\n",
    "\n",
    "#Calculate average property damage\n",
    "average_property_damage = df[\"Property Damage\"].mean()\n",
    "\n",
    "#Convert the average property damage back to $\n",
    "average_property_damage_dollars = \"${:,.2f}\".format(average_property_damage)\n",
    "\n",
    "#Print the average property damage\n",
    "bold_text = \"**Average Property Damage from 1950 to 2023**\"\n",
    "display(Markdown(bold_text))\n",
    "print(\"The average Property Damage from 1950 to 2023 is\", average_property_damage_dollars)"
   ]
  },
  {
   "cell_type": "markdown",
   "id": "3c5ef840-c7b4-412a-b5e5-c7511ec21e85",
   "metadata": {},
   "source": [
    "# Display average Crop Damage"
   ]
  },
  {
   "cell_type": "code",
   "execution_count": null,
   "id": "347926e5-61ee-4480-aa0e-7ed0608e6253",
   "metadata": {},
   "outputs": [],
   "source": [
    "#Convert non-string to string\n",
    "df['Crop Damage'] = df['Crop Damage'].apply(lambda x: sum(float(i) for i in str(x).split('$') if i.strip()))\n",
    "\n",
    "#Calculate average crop damage\n",
    "average_crop_damage = df[\"Crop Damage\"].mean()\n",
    "\n",
    "#Convert the average crop damage back to $\n",
    "average_crop_damage_dollars = \"${:,.2f}\".format(average_crop_damage)\n",
    "\n",
    "#Print the average crop damage\n",
    "bold_text = \"**Average Crop Damage from 1950 to 2023**\"\n",
    "display(Markdown(bold_text))\n",
    "print(\"The average Crop Damage from 1950 to 2023 is\", average_crop_damage_dollars)"
   ]
  },
  {
   "cell_type": "markdown",
   "id": "2605e49c-95c9-4f67-814f-13b667c0bb05",
   "metadata": {},
   "source": [
    "# Display average Injuries"
   ]
  },
  {
   "cell_type": "code",
   "execution_count": null,
   "id": "ef0488b8-175b-4dec-8f95-8ed5744fac8c",
   "metadata": {},
   "outputs": [],
   "source": [
    "##Calculate average injuries and round to the nearest whole number\n",
    "average_injuries = round(df[\"Injuries\"].mean())\n",
    "\n",
    "# Print the average injuries\n",
    "bold_text = \"**Average Injuries from 1950 to 2023**\"\n",
    "display(Markdown(bold_text))\n",
    "print(\"The average Injuries from 1950 to 2023 is\", average_injuries)"
   ]
  },
  {
   "cell_type": "markdown",
   "id": "52b0bf5e-5efa-41a4-8183-a6844a3c516a",
   "metadata": {},
   "source": [
    "# Display average Fatalities"
   ]
  },
  {
   "cell_type": "code",
   "execution_count": null,
   "id": "5c36ffa8-ffb1-4b5c-829b-56307a5cfca8",
   "metadata": {},
   "outputs": [],
   "source": [
    "##Calculate average fatalities and round to the nearest whole number\n",
    "average_fatalities = round(df[\"Fatalities\"].mean())\n",
    "\n",
    "#Print the average fatalities\n",
    "bold_text = \"**Average Fatalities from 1950 to 2023**\"\n",
    "display(Markdown(bold_text))\n",
    "print(\"The average Fatalities from 1950 to 2023 is\", average_fatalities)"
   ]
  }
 ],
 "metadata": {
  "kernelspec": {
   "display_name": "Python 3 (ipykernel)",
   "language": "python",
   "name": "python3"
  },
  "language_info": {
   "codemirror_mode": {
    "name": "ipython",
    "version": 3
   },
   "file_extension": ".py",
   "mimetype": "text/x-python",
   "name": "python",
   "nbconvert_exporter": "python",
   "pygments_lexer": "ipython3",
   "version": "3.11.7"
  }
 },
 "nbformat": 4,
 "nbformat_minor": 5
}
