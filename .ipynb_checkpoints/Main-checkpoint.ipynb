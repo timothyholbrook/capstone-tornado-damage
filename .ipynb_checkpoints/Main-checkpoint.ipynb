{
 "cells": [
  {
   "cell_type": "code",
   "execution_count": 1,
   "id": "40789faa-f7ce-42d1-9d7e-99f7dacfa3a0",
   "metadata": {},
   "outputs": [],
   "source": [
    "import pandas as pd\n",
    "from IPython.display import Image"
   ]
  },
  {
   "cell_type": "code",
   "execution_count": 2,
   "id": "901cee32-7b46-41ec-a699-5a5da8f18e5e",
   "metadata": {},
   "outputs": [],
   "source": [
    "# Load cleaned data file\n",
    "df = pd.read_csv('combined_file.csv')"
   ]
  },
  {
   "cell_type": "code",
   "execution_count": 3,
   "id": "a21e102f-13eb-474c-b7e1-f3cf0009fb57",
   "metadata": {},
   "outputs": [
    {
     "name": "stdout",
     "output_type": "stream",
     "text": [
      "Tornado Damages and Fatalities in The United States Since 1950\n"
     ]
    },
    {
     "data": {
      "text/html": [
       "<img src=\"images/west_lib_1.jpg\" width=\"400\" height=\"100\"/>"
      ],
      "text/plain": [
       "<IPython.core.display.Image object>"
      ]
     },
     "execution_count": 3,
     "metadata": {},
     "output_type": "execute_result"
    }
   ],
   "source": [
    "#Load Image\n",
    "print(\"Tornado Damages and Fatalities in The United States Since 1950\")\n",
    "Image(url=\"images/west_lib_1.jpg\", width=400, height=100)  "
   ]
  },
  {
   "cell_type": "code",
   "execution_count": null,
   "id": "c1bd5968-a7b2-40aa-8540-dc614363e2b9",
   "metadata": {},
   "outputs": [],
   "source": []
  },
  {
   "cell_type": "code",
   "execution_count": null,
   "id": "0d20865c-0ce7-4102-8f57-1fa66008f0b2",
   "metadata": {},
   "outputs": [
    {
     "name": "stdout",
     "output_type": "stream",
     "text": [
      "Combined average fatalities has been saved to combined_average_fatalities.csv\n"
     ]
    }
   ],
   "source": [
    "#Load the datasets\n",
    "modified_date = pd.read_csv('modified_date.csv')\n",
    "combined_file = pd.read_csv('combined_file.csv')\n",
    "\n",
    "#Merge the datasets based on a common column (e.g., 'Year')\n",
    "merged_df = pd.merge(modified_date, combined_file, on='Year', how='inner')\n",
    "\n",
    "#Calculate the average fatalities per year by summing the fatalities from both DataFrames and dividing by 2\n",
    "merged_df['Average_Fatalities'] = (merged_df['Fatalities_x'] + merged_df['Fatalities_y']) / 2\n",
    "\n",
    "#Round the Average_Fatalities column to the nearest whole number and store it in a new column named 'Fatalities'\n",
    "merged_df['Fatalities'] = merged_df['Average_Fatalities'].round().astype(int)\n",
    "\n",
    "#Create a new DataFrame with only the 'Year' and 'Fatalities' columns\n",
    "new_df = merged_df[['Year', 'Fatalities']]\n",
    "\n",
    "#Save the new DataFrame to a CSV file\n",
    "new_df.to_csv('combined_average_fatalities.csv', index=False)\n",
    "\n",
    "print(\"Combined average fatalities has been saved to combined_average_fatalities.csv\")\n",
    "\n",
    "while True:\n",
    "    #Prompt the user for a year\n",
    "    input_year = input(\"Enter a year to get the average number of fatalities between the two files (type 'exit' to quit): \")\n",
    "    \n",
    "    #Check if the user wants to exit\n",
    "    if input_year.lower() == 'exit':\n",
    "        print(\"Exiting the program...\")\n",
    "        break\n",
    "    \n",
    "    #Convert input_year to integer\n",
    "    input_year = int(input_year)\n",
    "    \n",
    "    #Filter the merged DataFrame for the specified year\n",
    "    yearly_data = merged_df[merged_df['Year'] == input_year]\n",
    "\n",
    "    #Get the average number of fatalities for the specified year\n",
    "    if len(yearly_data) > 0:\n",
    "        average_fatalities_for_input_year = yearly_data['Fatalities'].iloc[0]\n",
    "        print(f\"Average number of fatalities for {input_year} between the two files: {average_fatalities_for_input_year}\")\n",
    "    else:\n",
    "        print(f\"No data available for the year {input_year} between the two files\")"
   ]
  }
 ],
 "metadata": {
  "kernelspec": {
   "display_name": "Python 3 (ipykernel)",
   "language": "python",
   "name": "python3"
  },
  "language_info": {
   "codemirror_mode": {
    "name": "ipython",
    "version": 3
   },
   "file_extension": ".py",
   "mimetype": "text/x-python",
   "name": "python",
   "nbconvert_exporter": "python",
   "pygments_lexer": "ipython3",
   "version": "3.11.7"
  }
 },
 "nbformat": 4,
 "nbformat_minor": 5
}
